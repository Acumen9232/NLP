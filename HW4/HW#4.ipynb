{
 "cells": [
  {
   "cell_type": "code",
   "execution_count": null,
   "id": "bbf40d76",
   "metadata": {},
   "outputs": [],
   "source": [
    "import json\n",
    "import jieba\n",
    "import word2vec\n",
    "from os import walk\n",
    "from os.path import join\n",
    "from hanziconv import HanziConv\n",
    "         \n",
    "def readfile():\n",
    "    fileTrainRead = []\n",
    "    fileTrainSeg=[]\n",
    "    path =\"wiki_zh\"\n",
    "    for root, dirs, files in walk(path):\n",
    "        for f in files:\n",
    "            fullpath = join(root, f)\n",
    "            input_file = open(fullpath, encoding = 'utf8')\n",
    "            for line in input_file.readlines():\n",
    "                HanziConv.toTraditional(line)\n",
    "                fileTrainRead.append(json.loads(line))\n",
    "            input_file.close()\n",
    "    for i in fileTrainRead:\n",
    "        fileTrainSeg.append([' '.join(list(jieba.cut(i['text'],cut_all=False)))])\n",
    "        if i % 50000 == 0 :\n",
    "            print (i)\n",
    "    \n",
    "    return fileTrainSeg\n",
    "            \n",
    "def word2vec():\n",
    "    fileTrainSeg = readfile()\n",
    "    fileSegWordDonePath ='corpusSegDone.txt'\n",
    "    with open(fileSegWordDonePath,'wb') as fW:\n",
    "    for i in range(len(fileTrainSeg)):\n",
    "        fW.write(fileTrainSeg[i][0].encode('utf-8'))\n",
    "        fW.write('\\n')\n",
    "    word2vec.word2vec('corpusSegDone.txt', 'corpusWord2Vec.bin', size=300,verbose=True)\n",
    "    indexes = model.cosine(u'李知恩')\n",
    "    for index in indexes[0]:\n",
    "        print (model.vocab[index])\n",
    "        \n",
    "if __name__ == '__main__':\n",
    "    word2vec()"
   ]
  },
  {
   "cell_type": "code",
   "execution_count": null,
   "id": "60c214d0",
   "metadata": {},
   "outputs": [],
   "source": []
  }
 ],
 "metadata": {
  "kernelspec": {
   "display_name": "Python 3",
   "language": "python",
   "name": "python3"
  },
  "language_info": {
   "codemirror_mode": {
    "name": "ipython",
    "version": 3
   },
   "file_extension": ".py",
   "mimetype": "text/x-python",
   "name": "python",
   "nbconvert_exporter": "python",
   "pygments_lexer": "ipython3",
   "version": "3.8.8"
  }
 },
 "nbformat": 4,
 "nbformat_minor": 5
}
