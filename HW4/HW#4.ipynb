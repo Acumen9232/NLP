{
 "cells": [
  {
   "cell_type": "code",
   "execution_count": null,
   "id": "bbf40d76",
   "metadata": {},
   "outputs": [],
   "source": [
    "def call():\n",
    "    import jieba \n",
    "    import re\n",
    "    import sys\n",
    "    import codecs\n",
    "\n",
    "def filte(input_file,text):\n",
    "    from hanziconv import HanziConv\n",
    "    p1 = re.compile('[（\\(][，；。？！\\s]*[）\\)]')\n",
    "    p2 = re.compile('《》')\n",
    "    p3 = re.compile('「')\n",
    "    p4 = re.compile('」')\n",
    "    p5 = re.compile('<doc (.*)>')\n",
    "    p6 = re.compile('</doc>')\n",
    "    p7 = re.compile('『』')\n",
    "    p8 = re.compile('『')\n",
    "    p9 = re.compile('』')\n",
    "    p10 = re.compile('-\\{.*?(zh-hans|zh-cn):([^;]*?)(;.*?)?\\}-')\n",
    "    outfile = codecs.open(input_file, 'r', encoding = 'utf-8')\n",
    "    with codecs.open(input_file, 'r', encoding = 'utf-8') as myfile:\n",
    "        for line in myfile:\n",
    "            line = p1.sub('', line)\n",
    "            line = p2.sub('', line)\n",
    "            line = p3.sub('“', line)\n",
    "            line = p4.sub('”', line)\n",
    "            line = p5.sub('', line)\n",
    "            line = p6.sub('', line)\n",
    "            line = p7.sub('', line)\n",
    "            line = p8.sub('“', line)\n",
    "            line = p9.sub('”', line)\n",
    "            line = p10.sub('', line)\n",
    "            text.append(HanziConv.toTraditional(line))\n",
    "    outfile.close()\n",
    "    \n",
    "def readfile():\n",
    "    fileTrainRead = []\n",
    "    fileTrainSeg = []\n",
    "    for i in range(65,78):\n",
    "        outl = 10\n",
    "        if i == 77:\n",
    "            outl = 8\n",
    "        for j in range(outl):\n",
    "            inl = 10\n",
    "            if i == 77 and j == 7:\n",
    "                inl = 4\n",
    "            for l in range(inl):\n",
    "                path = 'wiki_zh\\A' + chr(i) + '\\wiki_' + str(j) + str(l)\n",
    "                filte(path,fileTrainRead)\n",
    "                \n",
    "    for i in range(len(fileTrainRead)):\n",
    "        fileTrainSeg.append([' '.join(list(jieba.cut(fileTrainRead[i][9:-11],cut_all=False)))])\n",
    "    return fileTrainSeg\n",
    "\n",
    "if __name__ == '__main__':\n",
    "    call()\n",
    "    readfile()"
   ]
  },
  {
   "cell_type": "code",
   "execution_count": null,
   "id": "b75cf5d4",
   "metadata": {},
   "outputs": [],
   "source": []
  }
 ],
 "metadata": {
  "kernelspec": {
   "display_name": "Python 3",
   "language": "python",
   "name": "python3"
  },
  "language_info": {
   "codemirror_mode": {
    "name": "ipython",
    "version": 3
   },
   "file_extension": ".py",
   "mimetype": "text/x-python",
   "name": "python",
   "nbconvert_exporter": "python",
   "pygments_lexer": "ipython3",
   "version": "3.8.8"
  }
 },
 "nbformat": 4,
 "nbformat_minor": 5
}
