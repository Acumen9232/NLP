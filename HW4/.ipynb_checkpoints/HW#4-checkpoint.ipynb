{
 "cells": [
  {
   "cell_type": "code",
   "execution_count": null,
   "id": "bbf40d76",
   "metadata": {},
   "outputs": [],
   "source": [
    "import jieba\n",
    "import word2vec\n",
    "import json\n",
    "import numpy as np\n",
    "from os import walk\n",
    "from os.path import join\n",
    "from opencc import OpenCC\n",
    "\n",
    "def readfile():\n",
    "    fileTrainRead = []\n",
    "    fileTrainSeg=[]\n",
    "    path =\"wiki_zh\"\n",
    "    for root, dirs, files in walk(path):\n",
    "        for f in files:\n",
    "            fullpath = join(root, f)\n",
    "            input_file = open(fullpath, encoding = 'utf8')\n",
    "            for line in input_file.readlines():\n",
    "                fileTrainRead.append(json.loads(line))\n",
    "            input_file.close()\n",
    "                \n",
    "    cc = OpenCC('s2t')\n",
    "    for word in fileTrainRead:\n",
    "        word['title'] = cc.convert(word['title'])\n",
    "        word['text'] = cc.convert(word['text'])\n",
    "\n",
    "    for i in fileTrainRead:\n",
    "        fileTrainRead.strip('\\n')\n",
    "        fileTrainRead=re.sub(\"[\\'\\: \\·\\—\\\\.\\，\\。\\“ \\”\\n\\u3000\\？\\、\\'*\\',\\']\", \"\", fileTrainRead)\n",
    "        fileTrainSeg.append([' '.join(list(jieba.cut(i['fileTrainRead'],cut_all=False)))])\n",
    "        \n",
    "    return fileTrainSeg    \n",
    "\n",
    "def word2vec():\n",
    "    fileTrainSeg = readfile()\n",
    "    fileSegWordDonePath ='corpusSegDone.txt'\n",
    "    with open(fileSegWordDonePath,'wb') as fW:\n",
    "        for i in range(len(fileTrainSeg)):\n",
    "            fW.write(fileTrainSeg[i][0].encode('utf-8'))\n",
    "            fW.write('\\n'.encode('utf-8'))\n",
    "    word2vec.word2vec('corpusSegDone.txt', 'corpusWord2Vec.txt', size = 300, verbose = True)\n",
    "    model = word2vec.load('corpusWord2Vec.txt')\n",
    "\n",
    "if __name__ == \"__main__\":\n",
    "    word2vec()"
   ]
  },
  {
   "cell_type": "code",
   "execution_count": null,
   "id": "bade1b58",
   "metadata": {},
   "outputs": [],
   "source": [
    "word = '李知恩'\n",
    "n = 20\n",
    "\n",
    "metrics = np.dot(model.vectors, model[word].T)\n",
    "best = np.argsort(metrics)[::-1][1:n+1]\n",
    "for i, index in enumerate(best):\n",
    "    print(i+1, ' ', model.vocab[index])"
   ]
  },
  {
   "cell_type": "code",
   "execution_count": null,
   "id": "e1bef559",
   "metadata": {},
   "outputs": [],
   "source": [
    "import json\n",
    "from os import walk\n",
    "from os.path import join\n",
    "from opencc import OpenCC\n",
    "\n",
    "for root, dirs, files in walk(path):\n",
    "        for f in files:\n",
    "            fullpath = join(root, f)\n",
    "            input_file = open(fullpath, encoding = 'utf8')\n",
    "            for line in input_file.readlines():\n",
    "                fileTrainRead.append(json.loads(line))\n",
    "            input_file.close()"
   ]
  }
 ],
 "metadata": {
  "kernelspec": {
   "display_name": "Python 3",
   "language": "python",
   "name": "python3"
  },
  "language_info": {
   "codemirror_mode": {
    "name": "ipython",
    "version": 3
   },
   "file_extension": ".py",
   "mimetype": "text/x-python",
   "name": "python",
   "nbconvert_exporter": "python",
   "pygments_lexer": "ipython3",
   "version": "3.8.8"
  }
 },
 "nbformat": 4,
 "nbformat_minor": 5
}
