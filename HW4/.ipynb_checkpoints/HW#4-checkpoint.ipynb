{
 "cells": [
  {
   "cell_type": "code",
   "execution_count": 1,
   "id": "bbf40d76",
   "metadata": {},
   "outputs": [
    {
     "name": "stderr",
     "output_type": "stream",
     "text": [
      "Building prefix dict from the default dictionary ...\n",
      "Loading model from cache C:\\Users\\user\\AppData\\Local\\Temp\\jieba.cache\n",
      "Loading model cost 0.567 seconds.\n",
      "Prefix dict has been built successfully.\n"
     ]
    },
    {
     "name": "stdout",
     "output_type": "stream",
     "text": [
      "Running command: word2vec -train corpusSegDone.txt -output corpusWord2Vec.txt -size 300 -window 5 -sample 1e-3 -hs 0 -negative 5 -threads 12 -iter 5 -min-count 5 -alpha 0.025 -debug 2 -binary 0 -cbow 1\n",
      "Starting training using file corpusSegDone.txt\n",
      "Vocab size: 92331300K0K300K300K800K200K400K000K500K200K800K700K0500K4000K9600K0400K1400K2400K4700K6100K00KK8300K9400K4000K4800K0K0K0200K2500K5900K6400K00KK0400K1200K2200K6500K00K4300K8900K0000K3000K5800K9200K00K\n",
      "Words in train file: 244600906\n",
      "Alpha: 0.000020  Progress: 99.92%  Words/thread/sec: 1091.90k  612  Progress: 1.56%  Words/thread/sec: 1176.07k  ad/sec: 1180.90k  ds/thread/sec: 1180.26k  /thread/sec: 1180.84k  ad/sec: 1175.72k  1  Progress: 8.68%  Words/thread/sec: 1174.28k  ess: 13.46%  Words/thread/sec: 1170.84k   Progress: 14.28%  Words/thread/sec: 1170.50k   Words/thread/sec: 1169.24k  %  Words/thread/sec: 1158.11k  : 1156.91k  ec: 1156.28k  9.49%  Words/thread/sec: 1152.97k   Progress: 31.77%  Words/thread/sec: 1152.27k  hread/sec: 1150.73k   Words/thread/sec: 1150.47k  read/sec: 1149.35k  9  Progress: 39.17%  Words/thread/sec: 1148.70k  thread/sec: 1148.69k  ha: 0.014439  Progress: 42.25%  Words/thread/sec: 1147.06k  ess: 42.86%  Words/thread/sec: 1146.77k  ress: 44.00%  Words/thread/sec: 1146.24k  955  Progress: 48.18%  Words/thread/sec: 1144.33k  0.012283  Progress: 50.87%  Words/thread/sec: 1143.37k  .14%  Words/thread/sec: 1143.28k  lpha: 0.011642  Progress: 53.44%  Words/thread/sec: 1142.13k  : 53.60%  Words/thread/sec: 1141.89k  ha: 0.011425  Progress: 54.31%  Words/thread/sec: 1141.79k  141.14k  9.08k  sec: 1138.99k  ords/thread/sec: 1137.83k  c: 1137.63k  d/sec: 1136.39k  : 82.26%  Words/thread/sec: 1134.18k  .004151  Progress: 83.40%  Words/thread/sec: 1133.95k  Words/thread/sec: 1133.14k  132.93k  ogress: 90.15%  Words/thread/sec: 1132.27k  2.01k  01892  Progress: 92.44%  Words/thread/sec: 1131.75k  ress: 92.61%  Words/thread/sec: 1131.73k  ress: 93.07%  Words/thread/sec: 1131.68k  73%  Words/thread/sec: 1130.15k    Progress: 95.71%  Words/thread/sec: 1128.89k  6  Progress: 95.78%  Words/thread/sec: 1128.76k  1k  rds/thread/sec: 1127.67k  3%  Words/thread/sec: 1126.30k   96.90%  Words/thread/sec: 1126.15k  hread/sec: 1123.74k  .20k  ds/thread/sec: 1122.88k    Progress: 98.62%  Words/thread/sec: 1121.08k  0314  Progress: 98.75%  Words/thread/sec: 1120.40k   1120.19k  4  Progress: 98.87%  Words/thread/sec: 1119.69k  3%  Words/thread/sec: 1119.46k  ess: 99.05%  Words/thread/sec: 1118.58k  /sec: 1118.01k  d/sec: 1117.45k  ess: 99.16%  Words/thread/sec: 1116.88k  ss: 99.24%  Words/thread/sec: 1115.68k  8%  Words/thread/sec: 1115.09k  rogress: 99.35%  Words/thread/sec: 1113.87k  6  Progress: 99.38%  Words/thread/sec: 1113.17k  ogress: 99.41%  Words/thread/sec: 1112.48k  3  Progress: 99.43%  Words/thread/sec: 1111.82k  8  Progress: 99.49%  Words/thread/sec: 1110.42k  0122  Progress: 99.51%  Words/thread/sec: 1109.78k  9.54%  Words/thread/sec: 1109.05k    Progress: 99.60%  Words/thread/sec: 1107.59k  c: 1106.92k    Progress: 99.65%  Words/thread/sec: 1106.22k   Progress: 99.71%  Words/thread/sec: 1103.76k  066  Progress: 99.74%  Words/thread/sec: 1102.01k  .000045  Progress: 99.83%  Words/thread/sec: 1097.28k    Progress: 99.84%  Words/thread/sec: 1096.53k  : 99.87%  Words/thread/sec: 1094.84k  ss: 99.90%  Words/thread/sec: 1093.11k  "
     ]
    }
   ],
   "source": [
    "import jieba\n",
    "import word2vec\n",
    "import json\n",
    "import numpy as np\n",
    "from os import walk\n",
    "from os.path import join\n",
    "from opencc import OpenCC\n",
    "\n",
    "fileTrainRead = []\n",
    "fileTrainSeg=[]\n",
    "path =\"wiki_zh\"\n",
    "for root, dirs, files in walk(path):\n",
    "    for f in files:\n",
    "        fullpath = join(root, f)\n",
    "        input_file = open(fullpath, encoding = 'utf8')\n",
    "        for line in input_file.readlines():\n",
    "            fileTrainRead.append(json.loads(line))\n",
    "        input_file.close()\n",
    "\n",
    "cc = OpenCC('s2t')\n",
    "for word in fileTrainRead:\n",
    "    word['title'] = cc.convert(word['title'])\n",
    "    word['text'] = cc.convert(word['text'])\n",
    "\n",
    "for i in fileTrainRead:\n",
    "    fileTrainSeg.append([' '.join(list(jieba.cut(i['text'],cut_all=False)))])   \n",
    "\n",
    "fileSegWordDonePath ='corpusSegDone.txt'\n",
    "with open(fileSegWordDonePath,'wb') as fW:\n",
    "    for i in range(len(fileTrainSeg)):\n",
    "        fW.write(fileTrainSeg[i][0].encode('utf-8'))\n",
    "        fW.write('\\n'.encode('utf-8'))\n",
    "word2vec.word2vec('corpusSegDone.txt', 'corpusWord2Vec.txt', size = 300, verbose = True)\n",
    "model = word2vec.load('corpusWord2Vec.txt')\n"
   ]
  },
  {
   "cell_type": "code",
   "execution_count": 4,
   "id": "bade1b58",
   "metadata": {},
   "outputs": [
    {
     "name": "stdout",
     "output_type": "stream",
     "text": [
      "1   朝鮮\n",
      "2   南韓\n",
      "3   北韓\n",
      "4   KBS\n",
      "5   韓民國\n",
      "6   全羅\n",
      "7   大邱\n",
      "8   首爾\n",
      "9   鮮半島\n",
      "10   漢城\n",
      "11   仁川\n",
      "12   MBC\n",
      "13   釜山\n",
      "14   日本\n",
      "15   中國\n",
      "16   文在寅\n",
      "17   演藝大獎\n",
      "18   北道\n",
      "19   2TV\n",
      "20   平壤\n"
     ]
    }
   ],
   "source": [
    "word = '韓國'\n",
    "n = 20\n",
    "\n",
    "metrics = np.dot(model.vectors, model[word].T)\n",
    "best = np.argsort(metrics)[::-1][1:n+1]\n",
    "for i, index in enumerate(best):\n",
    "    print(i+1, ' ', model.vocab[index])"
   ]
  }
 ],
 "metadata": {
  "kernelspec": {
   "display_name": "Python 3",
   "language": "python",
   "name": "python3"
  },
  "language_info": {
   "codemirror_mode": {
    "name": "ipython",
    "version": 3
   },
   "file_extension": ".py",
   "mimetype": "text/x-python",
   "name": "python",
   "nbconvert_exporter": "python",
   "pygments_lexer": "ipython3",
   "version": "3.8.8"
  }
 },
 "nbformat": 4,
 "nbformat_minor": 5
}
