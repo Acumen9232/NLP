{
 "cells": [
  {
   "cell_type": "code",
   "execution_count": 21,
   "id": "857ac5e6",
   "metadata": {},
   "outputs": [],
   "source": [
    "import requests\n",
    "import pandas  as pd\n",
    "from bs4 import BeautifulSoup\n",
    "\n",
    "infos = []\n",
    "\n",
    "for id in range(1, 3):\n",
    "    url = 'https://movies.yahoo.com.tw/movieinfo_main/-%s' % id\n",
    "    r = requests.get(url)\n",
    "    soup = BeautifulSoup(r.text)\n",
    "    \n",
    "    info = {}\n",
    "    info['名稱'] = soup.find('div',class_=\"movie_intro_info_r\").find('h1').text\n",
    "    info['分類'] = d.find('div', class_=\"level_name\").find('a').text.replace(' ', '').replace('\\n', '')\n",
    "    info['劇情介紹'] = soup.find('div',class_=\"gray_infobox_inner\").span.text.replace(' ', '').replace('\\n', '')\n",
    "    info['上映日期'] = soup.find('div',class_=\"movie_intro_info_r\").span.text.replace('上映日期：', '')\n",
    "    infos.append(info)\n",
    "df = pd.DataFrame(infos)\n",
    "df.index = df.index + 1\n",
    "df.to_csv('movieinfo.csv', encoding = 'utf-8-sig')"
   ]
  },
  {
   "cell_type": "code",
   "execution_count": null,
   "id": "95b31a45",
   "metadata": {},
   "outputs": [],
   "source": []
  }
 ],
 "metadata": {
  "kernelspec": {
   "display_name": "Python 3",
   "language": "python",
   "name": "python3"
  },
  "language_info": {
   "codemirror_mode": {
    "name": "ipython",
    "version": 3
   },
   "file_extension": ".py",
   "mimetype": "text/x-python",
   "name": "python",
   "nbconvert_exporter": "python",
   "pygments_lexer": "ipython3",
   "version": "3.8.8"
  }
 },
 "nbformat": 4,
 "nbformat_minor": 5
}
