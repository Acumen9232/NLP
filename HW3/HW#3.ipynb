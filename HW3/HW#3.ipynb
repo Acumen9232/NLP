{
 "cells": [
  {
   "cell_type": "code",
   "execution_count": 51,
   "id": "1c9f7170",
   "metadata": {},
   "outputs": [
    {
     "name": "stdout",
     "output_type": "stream",
     "text": [
      "0.412\n"
     ]
    }
   ],
   "source": [
    "def call():\n",
    "    \n",
    "    from sklearn.feature_extraction.text import TfidfTransformer \n",
    "    from sklearn.feature_extraction.text import TfidfVectorizer\n",
    "    from sklearn.feature_extraction.text import CountVectorizer\n",
    "    import pandas as pd\n",
    "    import math\n",
    "    from sklearn.preprocessing import normalize\n",
    "    from sklearn.neighbors import KNeighborsClassifier\n",
    "    import csv\n",
    "def data(test_movie,train_movie,categories):\n",
    "    with open('movieinfo.csv',encoding=\"utf-8\") as csvfile:\n",
    "        # 解析內容\n",
    "        rows = list(csv.reader(csvfile))\n",
    "        test_movie = []\n",
    "        train_movie = []\n",
    "        for row in rows[1:5501]:\n",
    "            train_movie.append(row)\n",
    "        for row in rows[5501:6001]:\n",
    "            test_movie.append(row)\n",
    "        categories = []\n",
    "\n",
    "        for movie in train_movie:\n",
    "            temp = movie[2].split(\",\")\n",
    "            categories.append(temp[0])\n",
    "\n",
    "    categories = set(categories)\n",
    "    categories = list(categories)\n",
    "def Calculate(y_test):\n",
    "    vectorizer = TfidfVectorizer(sublinear_tf=False, stop_words=None, token_pattern=\"(?u)\\\\b\\\\w+\\\\b\", smooth_idf=True, norm='l2')\n",
    "    train_data = []\n",
    "    for i in train_movie:\n",
    "        train_data.append(i[3][-200:-1])\n",
    "    tfidf = vectorizer.fit_transform(train_data)\n",
    "    tfidf = tfidf.toarray()\n",
    "    df_tfidf = pd.DataFrame(tfidf,columns=vectorizer.get_feature_names(), index=range(len(train_data)))\n",
    "    df_tfidf\n",
    "\n",
    "    y_train = []\n",
    "    for movie in train_movie:\n",
    "        for i in range(len(categories)):\n",
    "            if movie[2] == categories[i]:\n",
    "                y_train.append(i)\n",
    "\n",
    "    x_train = list(tfidf)\n",
    "    x_test = list(tfidf[-500:])\n",
    "    knn = KNeighborsClassifier(n_neighbors = 5)\n",
    "    knn.fit(x_train,y_train)\n",
    "    pred = knn.predict(x_test)\n",
    "    y_test = []\n",
    "\n",
    "    for i in pred:\n",
    "        y_test.append(categories[i])\n",
    "def result():\n",
    "    correct = 0\n",
    "    for i in range(500):\n",
    "        if y_test[i] == test_movie[i][2]:\n",
    "            correct = correct + 1\n",
    "\n",
    "    accuracy = correct / 500\n",
    "    print(accuracy)\n",
    "if __name__ == \"__main__\":\n",
    "    call()"
   ]
  },
  {
   "cell_type": "code",
   "execution_count": null,
   "id": "1fcbe705",
   "metadata": {},
   "outputs": [],
   "source": []
  }
 ],
 "metadata": {
  "kernelspec": {
   "display_name": "Python 3",
   "language": "python",
   "name": "python3"
  },
  "language_info": {
   "codemirror_mode": {
    "name": "ipython",
    "version": 3
   },
   "file_extension": ".py",
   "mimetype": "text/x-python",
   "name": "python",
   "nbconvert_exporter": "python",
   "pygments_lexer": "ipython3",
   "version": "3.8.8"
  }
 },
 "nbformat": 4,
 "nbformat_minor": 5
}
